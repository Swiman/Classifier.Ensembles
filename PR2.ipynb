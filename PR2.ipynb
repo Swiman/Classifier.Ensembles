{
 "cells": [
  {
   "cell_type": "code",
   "execution_count": 2,
   "metadata": {},
   "outputs": [
    {
     "name": "stdout",
     "output_type": "stream",
     "text": [
      "The autoreload extension is already loaded. To reload it, use:\n",
      "  %reload_ext autoreload\n"
     ]
    }
   ],
   "source": [
    "import os\n",
    "import pickle\n",
    "import pandas as pd\n",
    "from io import StringIO\n",
    "from sklearn.metrics import confusion_matrix\n",
    "from sklearn.model_selection import train_test_split\n",
    "from bs import *\n",
    "from sklearn.model_selection import KFold\n",
    "from sklearn.metrics import precision_score,recall_score,accuracy_score,roc_curve\n",
    "from collections import defaultdict\n",
    "from sklearn.metrics import roc_curve\n",
    "import matplotlib.pyplot as plt\n",
    "\n",
    "%load_ext autoreload\n",
    "%autoreload 2"
   ]
  },
  {
   "cell_type": "code",
   "execution_count": 3,
   "metadata": {},
   "outputs": [
    {
     "data": {
      "text/html": [
       "<div>\n",
       "<style scoped>\n",
       "    .dataframe tbody tr th:only-of-type {\n",
       "        vertical-align: middle;\n",
       "    }\n",
       "\n",
       "    .dataframe tbody tr th {\n",
       "        vertical-align: top;\n",
       "    }\n",
       "\n",
       "    .dataframe thead th {\n",
       "        text-align: right;\n",
       "    }\n",
       "</style>\n",
       "<table border=\"1\" class=\"dataframe\">\n",
       "  <thead>\n",
       "    <tr style=\"text-align: right;\">\n",
       "      <th></th>\n",
       "      <th>0</th>\n",
       "      <th>1</th>\n",
       "      <th>2</th>\n",
       "      <th>3</th>\n",
       "      <th>4</th>\n",
       "      <th>5</th>\n",
       "      <th>6</th>\n",
       "      <th>7</th>\n",
       "      <th>8</th>\n",
       "      <th>9</th>\n",
       "      <th>10</th>\n",
       "    </tr>\n",
       "  </thead>\n",
       "  <tbody>\n",
       "    <tr>\n",
       "      <th>0</th>\n",
       "      <td>5</td>\n",
       "      <td>7</td>\n",
       "      <td>35.0</td>\n",
       "      <td>1.400</td>\n",
       "      <td>0.400</td>\n",
       "      <td>0.657</td>\n",
       "      <td>2.33</td>\n",
       "      <td>14</td>\n",
       "      <td>23</td>\n",
       "      <td>6</td>\n",
       "      <td>negative</td>\n",
       "    </tr>\n",
       "    <tr>\n",
       "      <th>1</th>\n",
       "      <td>6</td>\n",
       "      <td>7</td>\n",
       "      <td>42.0</td>\n",
       "      <td>1.167</td>\n",
       "      <td>0.429</td>\n",
       "      <td>0.881</td>\n",
       "      <td>3.60</td>\n",
       "      <td>18</td>\n",
       "      <td>37</td>\n",
       "      <td>5</td>\n",
       "      <td>negative</td>\n",
       "    </tr>\n",
       "    <tr>\n",
       "      <th>2</th>\n",
       "      <td>6</td>\n",
       "      <td>18</td>\n",
       "      <td>108.0</td>\n",
       "      <td>3.000</td>\n",
       "      <td>0.287</td>\n",
       "      <td>0.741</td>\n",
       "      <td>4.43</td>\n",
       "      <td>31</td>\n",
       "      <td>80</td>\n",
       "      <td>7</td>\n",
       "      <td>negative</td>\n",
       "    </tr>\n",
       "    <tr>\n",
       "      <th>3</th>\n",
       "      <td>5</td>\n",
       "      <td>7</td>\n",
       "      <td>35.0</td>\n",
       "      <td>1.400</td>\n",
       "      <td>0.371</td>\n",
       "      <td>0.743</td>\n",
       "      <td>4.33</td>\n",
       "      <td>13</td>\n",
       "      <td>26</td>\n",
       "      <td>3</td>\n",
       "      <td>negative</td>\n",
       "    </tr>\n",
       "    <tr>\n",
       "      <th>4</th>\n",
       "      <td>6</td>\n",
       "      <td>3</td>\n",
       "      <td>18.0</td>\n",
       "      <td>500.000</td>\n",
       "      <td>0.500</td>\n",
       "      <td>0.944</td>\n",
       "      <td>2.25</td>\n",
       "      <td>9</td>\n",
       "      <td>17</td>\n",
       "      <td>4</td>\n",
       "      <td>negative</td>\n",
       "    </tr>\n",
       "  </tbody>\n",
       "</table>\n",
       "</div>"
      ],
      "text/plain": [
       "   0   1      2        3      4      5     6   7   8   9          10\n",
       "0   5   7   35.0    1.400  0.400  0.657  2.33  14  23   6   negative\n",
       "1   6   7   42.0    1.167  0.429  0.881  3.60  18  37   5   negative\n",
       "2   6  18  108.0    3.000  0.287  0.741  4.43  31  80   7   negative\n",
       "3   5   7   35.0    1.400  0.371  0.743  4.33  13  26   3   negative\n",
       "4   6   3   18.0  500.000  0.500  0.944  2.25   9  17   4   negative"
      ]
     },
     "execution_count": 3,
     "metadata": {},
     "output_type": "execute_result"
    }
   ],
   "source": [
    "with open('Dataset/page-blocks0.dat','r') as f:\n",
    "    file = f.read()\n",
    "table = pd.read_csv(StringIO(file),header=None)\n",
    "table.head()"
   ]
  },
  {
   "cell_type": "code",
   "execution_count": 4,
   "metadata": {},
   "outputs": [
    {
     "data": {
      "text/html": [
       "<div>\n",
       "<style scoped>\n",
       "    .dataframe tbody tr th:only-of-type {\n",
       "        vertical-align: middle;\n",
       "    }\n",
       "\n",
       "    .dataframe tbody tr th {\n",
       "        vertical-align: top;\n",
       "    }\n",
       "\n",
       "    .dataframe thead th {\n",
       "        text-align: right;\n",
       "    }\n",
       "</style>\n",
       "<table border=\"1\" class=\"dataframe\">\n",
       "  <thead>\n",
       "    <tr style=\"text-align: right;\">\n",
       "      <th></th>\n",
       "      <th>Height</th>\n",
       "      <th>Length</th>\n",
       "      <th>Area</th>\n",
       "      <th>Eccen</th>\n",
       "      <th>P_black</th>\n",
       "      <th>P_and</th>\n",
       "      <th>Mean_tr</th>\n",
       "      <th>Blackpix</th>\n",
       "      <th>Blackand</th>\n",
       "      <th>Wb_trans</th>\n",
       "      <th>Class</th>\n",
       "    </tr>\n",
       "  </thead>\n",
       "  <tbody>\n",
       "    <tr>\n",
       "      <th>0</th>\n",
       "      <td>5</td>\n",
       "      <td>7</td>\n",
       "      <td>35.0</td>\n",
       "      <td>1.400</td>\n",
       "      <td>0.400</td>\n",
       "      <td>0.657</td>\n",
       "      <td>2.33</td>\n",
       "      <td>14</td>\n",
       "      <td>23</td>\n",
       "      <td>6</td>\n",
       "      <td>negative</td>\n",
       "    </tr>\n",
       "    <tr>\n",
       "      <th>1</th>\n",
       "      <td>6</td>\n",
       "      <td>7</td>\n",
       "      <td>42.0</td>\n",
       "      <td>1.167</td>\n",
       "      <td>0.429</td>\n",
       "      <td>0.881</td>\n",
       "      <td>3.60</td>\n",
       "      <td>18</td>\n",
       "      <td>37</td>\n",
       "      <td>5</td>\n",
       "      <td>negative</td>\n",
       "    </tr>\n",
       "    <tr>\n",
       "      <th>2</th>\n",
       "      <td>6</td>\n",
       "      <td>18</td>\n",
       "      <td>108.0</td>\n",
       "      <td>3.000</td>\n",
       "      <td>0.287</td>\n",
       "      <td>0.741</td>\n",
       "      <td>4.43</td>\n",
       "      <td>31</td>\n",
       "      <td>80</td>\n",
       "      <td>7</td>\n",
       "      <td>negative</td>\n",
       "    </tr>\n",
       "    <tr>\n",
       "      <th>3</th>\n",
       "      <td>5</td>\n",
       "      <td>7</td>\n",
       "      <td>35.0</td>\n",
       "      <td>1.400</td>\n",
       "      <td>0.371</td>\n",
       "      <td>0.743</td>\n",
       "      <td>4.33</td>\n",
       "      <td>13</td>\n",
       "      <td>26</td>\n",
       "      <td>3</td>\n",
       "      <td>negative</td>\n",
       "    </tr>\n",
       "    <tr>\n",
       "      <th>4</th>\n",
       "      <td>6</td>\n",
       "      <td>3</td>\n",
       "      <td>18.0</td>\n",
       "      <td>500.000</td>\n",
       "      <td>0.500</td>\n",
       "      <td>0.944</td>\n",
       "      <td>2.25</td>\n",
       "      <td>9</td>\n",
       "      <td>17</td>\n",
       "      <td>4</td>\n",
       "      <td>negative</td>\n",
       "    </tr>\n",
       "  </tbody>\n",
       "</table>\n",
       "</div>"
      ],
      "text/plain": [
       "   Height  Length   Area    Eccen  P_black  P_and  Mean_tr  Blackpix  \\\n",
       "0       5       7   35.0    1.400    0.400  0.657     2.33        14   \n",
       "1       6       7   42.0    1.167    0.429  0.881     3.60        18   \n",
       "2       6      18  108.0    3.000    0.287  0.741     4.43        31   \n",
       "3       5       7   35.0    1.400    0.371  0.743     4.33        13   \n",
       "4       6       3   18.0  500.000    0.500  0.944     2.25         9   \n",
       "\n",
       "   Blackand  Wb_trans      Class  \n",
       "0        23         6   negative  \n",
       "1        37         5   negative  \n",
       "2        80         7   negative  \n",
       "3        26         3   negative  \n",
       "4        17         4   negative  "
      ]
     },
     "execution_count": 4,
     "metadata": {},
     "output_type": "execute_result"
    }
   ],
   "source": [
    "columns = [\"Height\", \"Length\", \"Area\", \"Eccen\", \"P_black\", \"P_and\", \"Mean_tr\", \"Blackpix\", \"Blackand\", \"Wb_trans\",\"Class\"]\n",
    "table.columns = columns\n",
    "table.head(5)"
   ]
  },
  {
   "cell_type": "code",
   "execution_count": 5,
   "metadata": {},
   "outputs": [
    {
     "data": {
      "text/plain": [
       "array([[  5.,   7.,  35., ...,  14.,  23.,   6.],\n",
       "       [  6.,   7.,  42., ...,  18.,  37.,   5.],\n",
       "       [  6.,  18., 108., ...,  31.,  80.,   7.],\n",
       "       ...,\n",
       "       [  7.,   4.,  28., ...,  20.,  26.,   2.],\n",
       "       [  6.,  95., 570., ..., 171., 519., 104.],\n",
       "       [  7.,  41., 287., ...,  61., 230.,  45.]])"
      ]
     },
     "execution_count": 5,
     "metadata": {},
     "output_type": "execute_result"
    }
   ],
   "source": [
    "Data = table.drop([\"Class\"],axis=1).to_numpy()\n",
    "Data"
   ]
  },
  {
   "cell_type": "code",
   "execution_count": 6,
   "metadata": {},
   "outputs": [
    {
     "data": {
      "text/plain": [
       "array([-1, -1, -1, -1, -1, -1, -1, -1, -1, -1, -1, -1, -1, -1, -1, -1, -1,\n",
       "       -1, -1, -1, -1, -1, -1, -1, -1, -1, -1, -1, -1, -1, -1, -1, -1, -1,\n",
       "        1,  1,  1,  1, -1, -1, -1, -1, -1,  1,  1,  1,  1,  1, -1, -1])"
      ]
     },
     "execution_count": 6,
     "metadata": {},
     "output_type": "execute_result"
    }
   ],
   "source": [
    "Y = table[\"Class\"].to_numpy()\n",
    "Labels = np.array([-1]*len(Y))\n",
    "mask = (Y != ' negative')\n",
    "Labels[mask] *=  -1\n",
    "Labels[:50]"
   ]
  },
  {
   "cell_type": "code",
   "execution_count": 7,
   "metadata": {},
   "outputs": [
    {
     "name": "stdout",
     "output_type": "stream",
     "text": [
      "5472 Inputs with 10 Features\n",
      "Minor(POS) Class Size :  559\n",
      "Major(NEG) Class Size :  4913\n"
     ]
    }
   ],
   "source": [
    "T = np.count_nonzero(Labels+1)\n",
    "M = len(Labels) - T\n",
    "\n",
    "print('%d Inputs with %d Features'%(Data.shape[0],Data.shape[1]))\n",
    "print('Minor(POS) Class Size : ',T)\n",
    "print('Major(NEG) Class Size : ',M)"
   ]
  },
  {
   "cell_type": "code",
   "execution_count": 8,
   "metadata": {},
   "outputs": [
    {
     "data": {
      "text/plain": [
       "5"
      ]
     },
     "execution_count": 8,
     "metadata": {},
     "output_type": "execute_result"
    }
   ],
   "source": [
    "tr_idxs = []\n",
    "te_idxs = []\n",
    "for tr,te in KFold().split(Data):\n",
    "    tr_idxs.append(tr)\n",
    "    te_idxs.append(te)\n",
    "len(tr_idxs)"
   ]
  },
  {
   "cell_type": "markdown",
   "metadata": {},
   "source": [
    "# ADABOOST.M2"
   ]
  },
  {
   "cell_type": "code",
   "execution_count": 9,
   "metadata": {},
   "outputs": [],
   "source": [
    "adm2_pres = defaultdict(list)\n",
    "adm2_recs = defaultdict(list)\n",
    "adm2_accs = defaultdict(list)\n",
    "adm2_tp_fp = defaultdict(list)\n",
    "adm2_mean_pre = {}\n",
    "adm2_mean_rec = {}\n",
    "adm2_mean_acc = {}"
   ]
  },
  {
   "cell_type": "code",
   "execution_count": 10,
   "metadata": {},
   "outputs": [],
   "source": [
    "for n in [10,50,100]:\n",
    "    for i in range(5):\n",
    "        Xtr = Data[tr_idxs[i]]\n",
    "        Xte = Data[te_idxs[i]]\n",
    "        ytr = Labels[tr_idxs[i]]\n",
    "        yte = Labels[te_idxs[i]]\n",
    "        abm2 = ADABOOST_M2(Xtr,ytr)\n",
    "        abm2.train(n)\n",
    "        y_abm2 = abm2.predict(Xte)\n",
    "        adm2_recs[n].append(recall_score(yte,y_abm2))\n",
    "        adm2_pres[n].append(precision_score(yte,y_abm2))\n",
    "        adm2_accs[n].append(accuracy_score(yte,y_abm2))\n",
    "        adm2_tp_fp[n].append(roc_curve(yte,y_abm2))"
   ]
  },
  {
   "cell_type": "code",
   "execution_count": 11,
   "metadata": {},
   "outputs": [
    {
     "name": "stdout",
     "output_type": "stream",
     "text": [
      "Mean Precisions :  {10: 0.7783761577307727, 50: 0.7910259981961423, 100: 0.7962235056578914}\n",
      "Mean Recalls :  {10: 0.500815774986237, 50: 0.6889229768279865, 100: 0.7093580568206462}\n",
      "Mean Accs :  {10: 0.9362211481472207, 50: 0.9512006544622806, 100: 0.9544898282871287}\n"
     ]
    }
   ],
   "source": [
    "for n in [10,50,100]:\n",
    "    adm2_mean_pre[n] = np.mean(adm2_pres[n])\n",
    "    adm2_mean_rec[n] = np.mean(adm2_recs[n])\n",
    "    adm2_mean_acc[n] = np.mean(adm2_accs[n])\n",
    "\n",
    "print('Mean Precisions : ',adm2_mean_pre)\n",
    "print('Mean Recalls : ',adm2_mean_rec)\n",
    "print('Mean Accs : ',adm2_mean_acc)\n"
   ]
  },
  {
   "cell_type": "markdown",
   "metadata": {},
   "source": [
    "# SMOTEBoost"
   ]
  },
  {
   "cell_type": "code",
   "execution_count": 12,
   "metadata": {},
   "outputs": [],
   "source": [
    "sadm2_pres = defaultdict(list)\n",
    "sadm2_recs = defaultdict(list)\n",
    "sadm2_accs = defaultdict(list)\n",
    "sadm2_tp_fp = defaultdict(list)\n",
    "\n",
    "sadm2_mean_pre = {}\n",
    "sadm2_mean_rec = {}\n",
    "sadm2_mean_acc = {}"
   ]
  },
  {
   "cell_type": "code",
   "execution_count": 13,
   "metadata": {},
   "outputs": [],
   "source": [
    "for n in [10,50,100]:\n",
    "    for i in range(5):\n",
    "        Xtr = Data[tr_idxs[i]]\n",
    "        Xte = Data[te_idxs[i]]\n",
    "        ytr = Labels[tr_idxs[i]]\n",
    "        yte = Labels[te_idxs[i]]\n",
    "        sbo = SMOTE_BOOST(Xtr,ytr,10,900)\n",
    "        sbo.train(n)\n",
    "        y_sabm2 = sbo.predict(Xte)\n",
    "        sadm2_recs[n].append(recall_score(yte,y_sabm2))\n",
    "        sadm2_pres[n].append(precision_score(yte,y_sabm2))\n",
    "        sadm2_accs[n].append(accuracy_score(yte,y_sabm2))\n",
    "        sadm2_tp_fp[n].append(roc_curve(yte,y_sabm2))"
   ]
  },
  {
   "cell_type": "code",
   "execution_count": 14,
   "metadata": {},
   "outputs": [
    {
     "name": "stdout",
     "output_type": "stream",
     "text": [
      "Mean Precisions :  {10: 0.6931457903298607, 50: 0.7108110987077271, 100: 0.7112083220339636}\n",
      "Mean Recalls :  {10: 0.5061558480556528, 50: 0.5889992159217924, 100: 0.5939822831690105}\n",
      "Mean Accs :  {10: 0.9303667159182923, 50: 0.939686793051347, 100: 0.9398694414531732}\n"
     ]
    }
   ],
   "source": [
    "for n in [10,50,100]:\n",
    "    sadm2_mean_pre[n] = np.mean(sadm2_pres[n])\n",
    "    sadm2_mean_rec[n] = np.mean(sadm2_recs[n])\n",
    "    sadm2_mean_acc[n] = np.mean(sadm2_accs[n])\n",
    "\n",
    "print('Mean Precisions : ',sadm2_mean_pre)\n",
    "print('Mean Recalls : ',sadm2_mean_rec)\n",
    "print('Mean Accs : ',sadm2_mean_acc)\n"
   ]
  },
  {
   "cell_type": "markdown",
   "metadata": {},
   "source": [
    "# RUSBOOST"
   ]
  },
  {
   "cell_type": "code",
   "execution_count": 15,
   "metadata": {},
   "outputs": [],
   "source": [
    "rus_pres = defaultdict(list)\n",
    "rus_recs = defaultdict(list)\n",
    "rus_accs = defaultdict(list)\n",
    "rus_tp_fp = defaultdict(list)\n",
    "\n",
    "rus_mean_acc = {}\n",
    "rus_mean_pre = {}\n",
    "rus_mean_rec = {}"
   ]
  },
  {
   "cell_type": "code",
   "execution_count": 16,
   "metadata": {},
   "outputs": [],
   "source": [
    "for n in [10,50,100]:\n",
    "    for i in range(5):\n",
    "        Xtr = Data[tr_idxs[i]]\n",
    "        Xte = Data[te_idxs[i]]\n",
    "        ytr = Labels[tr_idxs[i]]\n",
    "        yte = Labels[te_idxs[i]]\n",
    "        rus = RUSBOOST(Xtr,ytr,50)\n",
    "        rus.train(n)\n",
    "        y_rus = rus.predict(Xte)\n",
    "        rus_recs[n].append(recall_score(yte,y_rus))\n",
    "        rus_pres[n].append(precision_score(yte,y_rus))\n",
    "        rus_accs[n].append(accuracy_score(yte,y_rus))\n",
    "        rus_tp_fp[n].append(roc_curve(yte,y_rus))"
   ]
  },
  {
   "cell_type": "code",
   "execution_count": 17,
   "metadata": {},
   "outputs": [
    {
     "name": "stdout",
     "output_type": "stream",
     "text": [
      "Mean Precisions :  {10: 0.5825541625210382, 50: 0.6437089401337441, 100: 0.6978717662968137}\n",
      "Mean Accs :  {10: 0.9089796565742573, 50: 0.924882589132921, 100: 0.9446228076765755}\n",
      "Mean Recalls :  {10: 0.813256927414377, 50: 0.8108943496321505, 100: 0.7874280566538211}\n"
     ]
    }
   ],
   "source": [
    "for n in [10,50,100]:\n",
    "    rus_mean_pre[n] = np.mean(rus_pres[n])\n",
    "    rus_mean_rec[n] = np.mean(rus_recs[n])\n",
    "    rus_mean_acc[n] = np.mean(rus_accs[n])\n",
    "\n",
    "print('Mean Precisions : ',rus_mean_pre)\n",
    "print('Mean Accs : ',rus_mean_acc)\n",
    "print('Mean Recalls : ',rus_mean_rec)"
   ]
  },
  {
   "cell_type": "markdown",
   "metadata": {},
   "source": [
    "# RANDOM BALANCE "
   ]
  },
  {
   "cell_type": "code",
   "execution_count": 18,
   "metadata": {},
   "outputs": [],
   "source": [
    "rb_pres = defaultdict(list)\n",
    "rb_recs = defaultdict(list)\n",
    "rb_accs = defaultdict(list)\n",
    "rb_tp_fp = defaultdict(list)\n",
    "\n",
    "rb_mean_pre = {}\n",
    "rb_mean_acc = {}\n",
    "rb_mean_rec = {}"
   ]
  },
  {
   "cell_type": "code",
   "execution_count": 19,
   "metadata": {},
   "outputs": [],
   "source": [
    "for n in [10,50,100]:\n",
    "    for i in range(5):\n",
    "        Xtr = Data[tr_idxs[i]]\n",
    "        Xte = Data[te_idxs[i]]\n",
    "        ytr = Labels[tr_idxs[i]]\n",
    "        yte = Labels[te_idxs[i]]\n",
    "        RB = RB_BOOST(Xtr,ytr)\n",
    "        RB.train(5,n)\n",
    "        y_rb = RB.predict(Xte)\n",
    "        rb_recs[n].append(recall_score(yte,y_rb))\n",
    "        rb_pres[n].append(precision_score(yte,y_rb))\n",
    "        rb_accs[n].append(accuracy_score(yte,y_rb))\n",
    "        rb_tp_fp[n].append(roc_curve(yte,y_rb))"
   ]
  },
  {
   "cell_type": "code",
   "execution_count": 20,
   "metadata": {},
   "outputs": [
    {
     "name": "stdout",
     "output_type": "stream",
     "text": [
      "Mean Acc :  {10: 0.921224445501824, 50: 0.919762089604568, 100: 0.9300004173866586}\n",
      "Mean Precisions :  {10: 0.6589428115743905, 50: 0.5998279054434416, 100: 0.631400117914082}\n",
      "Mean Recalls :  {10: 0.4977223362194084, 50: 0.7331623375540097, 100: 0.7994966885207614}\n"
     ]
    }
   ],
   "source": [
    "for n in [10,50,100]:\n",
    "    rb_mean_pre[n] = np.mean(rb_pres[n])\n",
    "    rb_mean_rec[n] = np.mean(rb_recs[n])\n",
    "    rb_mean_acc[n] = np.mean(rb_accs[n])\n",
    "print('Mean Acc : ',rb_mean_acc)\n",
    "print('Mean Precisions : ',rb_mean_pre)\n",
    "print('Mean Recalls : ',rb_mean_rec)"
   ]
  },
  {
   "cell_type": "markdown",
   "metadata": {},
   "source": [
    "# SVM"
   ]
  },
  {
   "cell_type": "code",
   "execution_count": 21,
   "metadata": {},
   "outputs": [],
   "source": [
    "from sklearn.svm import LinearSVC"
   ]
  },
  {
   "cell_type": "code",
   "execution_count": 22,
   "metadata": {},
   "outputs": [],
   "source": [
    "svm_pres = defaultdict(list)\n",
    "svm_recs = defaultdict(list)\n",
    "svm_accs = defaultdict(list)\n",
    "svm_tp_fp = defaultdict(list)\n",
    "\n",
    "svm_mean_pre = {}\n",
    "svm_mean_acc = {}\n",
    "svm_mean_rec = {}"
   ]
  },
  {
   "cell_type": "code",
   "execution_count": 23,
   "metadata": {
    "collapsed": true
   },
   "outputs": [
    {
     "name": "stderr",
     "output_type": "stream",
     "text": [
      "d:\\iust\\pattern\\projects\\2\\2venv\\lib\\site-packages\\sklearn\\svm\\_base.py:947: ConvergenceWarning: Liblinear failed to converge, increase the number of iterations.\n",
      "  \"the number of iterations.\", ConvergenceWarning)\n",
      "d:\\iust\\pattern\\projects\\2\\2venv\\lib\\site-packages\\sklearn\\svm\\_base.py:947: ConvergenceWarning: Liblinear failed to converge, increase the number of iterations.\n",
      "  \"the number of iterations.\", ConvergenceWarning)\n",
      "d:\\iust\\pattern\\projects\\2\\2venv\\lib\\site-packages\\sklearn\\svm\\_base.py:947: ConvergenceWarning: Liblinear failed to converge, increase the number of iterations.\n",
      "  \"the number of iterations.\", ConvergenceWarning)\n",
      "d:\\iust\\pattern\\projects\\2\\2venv\\lib\\site-packages\\sklearn\\svm\\_base.py:947: ConvergenceWarning: Liblinear failed to converge, increase the number of iterations.\n",
      "  \"the number of iterations.\", ConvergenceWarning)\n",
      "d:\\iust\\pattern\\projects\\2\\2venv\\lib\\site-packages\\sklearn\\svm\\_base.py:947: ConvergenceWarning: Liblinear failed to converge, increase the number of iterations.\n",
      "  \"the number of iterations.\", ConvergenceWarning)\n"
     ]
    }
   ],
   "source": [
    "for n in [1]:\n",
    "    for i in range(5):\n",
    "        Xtr = Data[tr_idxs[i]]\n",
    "        Xte = Data[te_idxs[i]]\n",
    "        ytr = Labels[tr_idxs[i]]\n",
    "        yte = Labels[te_idxs[i]]\n",
    "        LSVM = LinearSVC(C = 1.0,max_iter=100)\n",
    "        LSVM.fit(Xtr,ytr)\n",
    "        y_svm = LSVM.predict(Xte)\n",
    "        svm_recs[n].append(recall_score(yte,y_svm))\n",
    "        svm_pres[n].append(precision_score(yte,y_svm))\n",
    "        svm_accs[n].append(accuracy_score(yte,y_svm))\n",
    "        svm_tp_fp[n].append(roc_curve(yte,y_svm))"
   ]
  },
  {
   "cell_type": "code",
   "execution_count": 24,
   "metadata": {},
   "outputs": [
    {
     "name": "stdout",
     "output_type": "stream",
     "text": [
      "Mean Precisions :  {1: 0.7053914729521324}\n",
      "Mean Acc :  {1: 0.9269062466087334}\n",
      "Mean Recalls :  {1: 0.5850267754366648}\n"
     ]
    }
   ],
   "source": [
    "for n in [1]:\n",
    "    svm_mean_pre[n] = np.mean(svm_pres[n])\n",
    "    svm_mean_acc[n] = np.mean(svm_accs[n])\n",
    "    svm_mean_rec[n] = np.mean(svm_recs[n])\n",
    "\n",
    "print('Mean Precisions : ',svm_mean_pre)\n",
    "print('Mean Acc : ',svm_mean_acc)\n",
    "print('Mean Recalls : ',svm_mean_rec)"
   ]
  },
  {
   "cell_type": "markdown",
   "metadata": {},
   "source": [
    "# RANDOM FOREST"
   ]
  },
  {
   "cell_type": "code",
   "execution_count": 25,
   "metadata": {},
   "outputs": [],
   "source": [
    "from sklearn.ensemble import RandomForestClassifier"
   ]
  },
  {
   "cell_type": "code",
   "execution_count": 26,
   "metadata": {},
   "outputs": [],
   "source": [
    "rf_pres = defaultdict(list)\n",
    "rf_recs = defaultdict(list)\n",
    "rf_accs = defaultdict(list)\n",
    "rf_tp_fp = defaultdict(list)\n",
    "\n",
    "rf_mean_acc = {}\n",
    "rf_mean_pre = {}\n",
    "rf_mean_rec = {}"
   ]
  },
  {
   "cell_type": "code",
   "execution_count": 27,
   "metadata": {},
   "outputs": [],
   "source": [
    "# DEFAULT N_ESTIMATOR = 100\n",
    "rf = RandomForestClassifier()\n",
    "for n in [1]:\n",
    "    for i in range(5):\n",
    "        Xtr = Data[tr_idxs[i]]\n",
    "        Xte = Data[te_idxs[i]]\n",
    "        ytr = Labels[tr_idxs[i]]\n",
    "        yte = Labels[te_idxs[i]]\n",
    "        rf.fit(Xtr,ytr)\n",
    "        y_rf = rf.predict(Xte)\n",
    "        rf_recs[n].append(recall_score(yte,y_rf))\n",
    "        rf_pres[n].append(precision_score(yte,y_rf))\n",
    "        rf_accs[n].append(accuracy_score(yte,y_rf))\n",
    "        rf_tp_fp[n].append(roc_curve(yte,y_rf))\n",
    "        "
   ]
  },
  {
   "cell_type": "code",
   "execution_count": 28,
   "metadata": {},
   "outputs": [
    {
     "name": "stdout",
     "output_type": "stream",
     "text": [
      "Mean Precisions :  {1: 0.8481515409400711}\n",
      "Mean Recalls :  {1: 0.7536813305974008}\n",
      "Mean Accs :  {1: 0.966005693154024}\n"
     ]
    }
   ],
   "source": [
    "for n in [1]:\n",
    "    rf_mean_pre[n] = np.mean(rf_pres[n])\n",
    "    rf_mean_rec[n] = np.mean(rf_recs[n])\n",
    "    rf_mean_acc[n] = np.mean(rf_accs[n])\n",
    "\n",
    "print('Mean Precisions : ',rf_mean_pre)\n",
    "print('Mean Recalls : ',rf_mean_rec)\n",
    "print('Mean Accs : ',rf_mean_acc)"
   ]
  },
  {
   "cell_type": "code",
   "execution_count": 29,
   "metadata": {},
   "outputs": [],
   "source": [
    "import matplotlib.pyplot as plt"
   ]
  },
  {
   "cell_type": "code",
   "execution_count": 30,
   "metadata": {},
   "outputs": [],
   "source": [
    "accs = [adm2_mean_acc[10],adm2_mean_acc[50],adm2_mean_acc[100],sadm2_mean_acc[10],sadm2_mean_acc[50],sadm2_mean_acc[100],\n",
    "     rus_mean_acc[10],rus_mean_acc[50],rus_mean_acc[100],rb_mean_acc[10],rb_mean_acc[50],rb_mean_acc[100],svm_mean_acc[1],rf_mean_acc[1]]\n",
    "recs = [adm2_mean_rec[10],adm2_mean_rec[50],adm2_mean_rec[100],sadm2_mean_rec[10],sadm2_mean_rec[50],sadm2_mean_rec[100],\n",
    "     rus_mean_rec[10],rus_mean_rec[50],rus_mean_rec[100],rb_mean_rec[10],rb_mean_rec[50],rb_mean_rec[100],svm_mean_rec[1],rf_mean_rec[1]]\n",
    "pres = [adm2_mean_pre[10],adm2_mean_pre[50],adm2_mean_pre[100],sadm2_mean_pre[10],sadm2_mean_pre[50],sadm2_mean_pre[100],\n",
    "     rus_mean_pre[10],rus_mean_pre[50],rus_mean_pre[100],rb_mean_pre[10],rb_mean_pre[50],rb_mean_pre[100],svm_mean_pre[1],rf_mean_pre[1]]\n",
    "\n",
    "x = [1,6,11,2,7,12,3,8,13,4,9,14,16,17]"
   ]
  },
  {
   "cell_type": "code",
   "execution_count": 31,
   "metadata": {},
   "outputs": [
    {
     "data": {
      "image/png": "[encoded data removed]",
      "text/plain": [
       "<Figure size 720x360 with 1 Axes>"
      ]
     },
     "metadata": {
      "needs_background": "light"
     },
     "output_type": "display_data"
    }
   ],
   "source": [
    "la = {0:'AdaboostM2',3:'Smoteboost',6:'RUSboost',9:'RB-boost'}\n",
    "plt.figure(figsize=(10,5))\n",
    "for i in np.arange(0,12,step=3):\n",
    "    plt.bar(x[i:i+3],accs[i:i+3],width=.6,label=la[i])\n",
    "\n",
    "plt.bar(x[12],accs[12],width=.6,label = 'SVM')\n",
    "plt.bar(x[13],accs[13],width=.6,label = 'RF')\n",
    "plt.legend()\n",
    "plt.xlim(0,22)\n",
    "plt.xticks([2.5,7.5,12.5],['n_estimator=10','n_estimator=50','n_estimator=100'])\n",
    "# plt.title('Mean ACCs.')\n",
    "plt.ylabel('Mean Accuracy')\n",
    "plt.yticks(np.arange(0,1.01,.05))\n",
    "\n",
    "for i,v in enumerate(x):\n",
    "    plt.text(v-.45,accs[i],round(accs[i],2))\n",
    "\n",
    "plt.show()"
   ]
  },
  {
   "cell_type": "code",
   "execution_count": 32,
   "metadata": {},
   "outputs": [
    {
     "data": {
      "image/png": "[encoded data removed]",
      "text/plain": [
       "<Figure size 720x360 with 1 Axes>"
      ]
     },
     "metadata": {
      "needs_background": "light"
     },
     "output_type": "display_data"
    }
   ],
   "source": [
    "la = {0:'AdaboostM2',3:'Smoteboost',6:'RUSboost',9:'RB-boost'}\n",
    "plt.figure(figsize=(10,5))\n",
    "for i in np.arange(0,12,step=3):\n",
    "    plt.bar(x[i:i+3],recs[i:i+3],width=.6,label=la[i])\n",
    "\n",
    "plt.bar(x[12],recs[12],width=.6,label = 'SVM')\n",
    "plt.bar(x[13],recs[13],width=.6,label = 'RF')\n",
    "plt.legend()\n",
    "plt.xlim(0,22)\n",
    "plt.xticks([2.5,7.5,12.5],['n_estimator=10','n_estimator=50','n_estimator=100'])\n",
    "# plt.title('Mean ACCs.')\n",
    "plt.ylabel('Mean Recall')\n",
    "plt.yticks(np.arange(0,1.01,.05))\n",
    "\n",
    "for i,v in enumerate(x):\n",
    "    plt.text(v-.45,recs[i],round(recs[i],2))\n",
    "\n",
    "plt.show()"
   ]
  },
  {
   "cell_type": "code",
   "execution_count": 33,
   "metadata": {},
   "outputs": [
    {
     "data": {
      "image/png": "[encoded data removed]",
      "text/plain": [
       "<Figure size 720x360 with 1 Axes>"
      ]
     },
     "metadata": {
      "needs_background": "light"
     },
     "output_type": "display_data"
    }
   ],
   "source": [
    "la = {0:'AdaboostM2',3:'Smoteboost',6:'RUSboost',9:'RB-boost'}\n",
    "plt.figure(figsize=(10,5))\n",
    "for i in np.arange(0,12,step=3):\n",
    "    plt.bar(x[i:i+3],pres[i:i+3],width=.6,label=la[i])\n",
    "\n",
    "plt.bar(x[12],pres[12],width=.6,label = 'SVM')\n",
    "plt.bar(x[13],pres[13],width=.6,label = 'RF')\n",
    "plt.legend()\n",
    "plt.xlim(0,22)\n",
    "plt.xticks([2.5,7.5,12.5],['n_estimator=10','n_estimator=50','n_estimator=100'])\n",
    "# plt.title('Mean ACCs.')\n",
    "plt.ylabel('Mean Precision')\n",
    "plt.yticks(np.arange(0,1.01,.05))\n",
    "\n",
    "for i,v in enumerate(x):\n",
    "    plt.text(v-.45,pres[i],round(pres[i],2))\n",
    "\n",
    "plt.show()"
   ]
  },
  {
   "cell_type": "code",
   "execution_count": 34,
   "metadata": {},
   "outputs": [],
   "source": [
    "tp_fp_10 = [adm2_tp_fp[10],sadm2_tp_fp[10],rus_tp_fp[10],rb_tp_fp[10],svm_tp_fp[1],rf_tp_fp[1]]\n",
    "tp_fp_50 = [adm2_tp_fp[50],sadm2_tp_fp[50],rus_tp_fp[50],rb_tp_fp[50],svm_tp_fp[1],rf_tp_fp[1]]\n",
    "tp_fp_100 = [adm2_tp_fp[100],sadm2_tp_fp[100],rus_tp_fp[100],rb_tp_fp[100],svm_tp_fp[1],rf_tp_fp[1]]"
   ]
  },
  {
   "cell_type": "code",
   "execution_count": 35,
   "metadata": {},
   "outputs": [
    {
     "data": {
      "text/plain": [
       "[(array([0.        , 0.02129925, 1.        ]),\n",
       "  array([0.        , 0.93589744, 1.        ]),\n",
       "  array([ 2,  1, -1])),\n",
       " (array([0.        , 0.00479846, 1.        ]),\n",
       "  array([0.        , 0.60377358, 1.        ]),\n",
       "  array([ 2,  1, -1])),\n",
       " (array([0.        , 0.00773694, 1.        ]),\n",
       "  array([0.        , 0.56666667, 1.        ]),\n",
       "  array([ 2,  1, -1])),\n",
       " (array([0.        , 0.01264489, 1.        ]),\n",
       "  array([0.        , 0.80689655, 1.        ]),\n",
       "  array([ 2,  1, -1])),\n",
       " (array([0.        , 0.03688093, 1.        ]),\n",
       "  array([0.        , 0.85517241, 1.        ]),\n",
       "  array([ 2,  1, -1]))]"
      ]
     },
     "execution_count": 35,
     "metadata": {},
     "output_type": "execute_result"
    }
   ],
   "source": [
    "tp_fp_10[5]"
   ]
  },
  {
   "cell_type": "code",
   "execution_count": 36,
   "metadata": {},
   "outputs": [],
   "source": [
    "mean_tp_fp_10 = []\n",
    "mean_tp_fp_50 = []\n",
    "mean_tp_fp_100 = []\n",
    "for item in tp_fp_10:\n",
    "    mean_tp_fp_10.append(np.mean(item,axis=0))\n",
    "for item in tp_fp_50:\n",
    "    mean_tp_fp_50.append(np.mean(item,axis=0))\n",
    "for item in tp_fp_100:\n",
    "    mean_tp_fp_100.append(np.mean(item,axis=0))"
   ]
  },
  {
   "cell_type": "code",
   "execution_count": 37,
   "metadata": {},
   "outputs": [
    {
     "data": {
      "image/png": "[encoded data removed]",
      "text/plain": [
       "<Figure size 432x288 with 1 Axes>"
      ]
     },
     "metadata": {
      "needs_background": "light"
     },
     "output_type": "display_data"
    }
   ],
   "source": [
    "la = {0:'AdaboostM2',1:'Smoteboost',2:'RUSboost',3:'RB-boost',4:'SVM',5:'Random Forest'}\n",
    "plt.title(\"n_estimator = 10\")\n",
    "i = -1\n",
    "for item in mean_tp_fp_10:\n",
    "    i +=1\n",
    "    plt.plot(item[0],item[1],label = la[i])\n",
    "    plt.legend()\n",
    "    "
   ]
  },
  {
   "cell_type": "code",
   "execution_count": 38,
   "metadata": {},
   "outputs": [
    {
     "data": {
      "image/png": "[encoded data removed]",
      "text/plain": [
       "<Figure size 432x288 with 1 Axes>"
      ]
     },
     "metadata": {
      "needs_background": "light"
     },
     "output_type": "display_data"
    }
   ],
   "source": [
    "plt.title(\"n_estimator = 50\")\n",
    "i = -1\n",
    "for item in mean_tp_fp_50:\n",
    "    i +=1\n",
    "    plt.plot(item[0],item[1],label = la[i])\n",
    "    plt.legend()"
   ]
  },
  {
   "cell_type": "code",
   "execution_count": 39,
   "metadata": {},
   "outputs": [
    {
     "data": {
      "image/png": "[encoded data removed]",
      "text/plain": [
       "<Figure size 432x288 with 1 Axes>"
      ]
     },
     "metadata": {
      "needs_background": "light"
     },
     "output_type": "display_data"
    }
   ],
   "source": [
    "plt.title(\"n_estimator = 100\")\n",
    "i = -1\n",
    "for item in mean_tp_fp_100:\n",
    "    i +=1\n",
    "    plt.plot(item[0],item[1],label = la[i])\n",
    "    plt.legend()"
   ]
  },
  {
   "cell_type": "code",
   "execution_count": 40,
   "metadata": {
    "collapsed": true
   },
   "outputs": [
    {
     "name": "stderr",
     "output_type": "stream",
     "text": [
      "d:\\iust\\pattern\\projects\\2\\2venv\\lib\\site-packages\\sklearn\\svm\\_base.py:947: ConvergenceWarning: Liblinear failed to converge, increase the number of iterations.\n",
      "  \"the number of iterations.\", ConvergenceWarning)\n",
      "d:\\iust\\pattern\\projects\\2\\2venv\\lib\\site-packages\\sklearn\\svm\\_base.py:947: ConvergenceWarning: Liblinear failed to converge, increase the number of iterations.\n",
      "  \"the number of iterations.\", ConvergenceWarning)\n",
      "d:\\iust\\pattern\\projects\\2\\2venv\\lib\\site-packages\\sklearn\\svm\\_base.py:947: ConvergenceWarning: Liblinear failed to converge, increase the number of iterations.\n",
      "  \"the number of iterations.\", ConvergenceWarning)\n",
      "d:\\iust\\pattern\\projects\\2\\2venv\\lib\\site-packages\\sklearn\\svm\\_base.py:947: ConvergenceWarning: Liblinear failed to converge, increase the number of iterations.\n",
      "  \"the number of iterations.\", ConvergenceWarning)\n",
      "d:\\iust\\pattern\\projects\\2\\2venv\\lib\\site-packages\\sklearn\\svm\\_base.py:947: ConvergenceWarning: Liblinear failed to converge, increase the number of iterations.\n",
      "  \"the number of iterations.\", ConvergenceWarning)\n",
      "d:\\iust\\pattern\\projects\\2\\2venv\\lib\\site-packages\\sklearn\\svm\\_base.py:947: ConvergenceWarning: Liblinear failed to converge, increase the number of iterations.\n",
      "  \"the number of iterations.\", ConvergenceWarning)\n",
      "d:\\iust\\pattern\\projects\\2\\2venv\\lib\\site-packages\\sklearn\\svm\\_base.py:947: ConvergenceWarning: Liblinear failed to converge, increase the number of iterations.\n",
      "  \"the number of iterations.\", ConvergenceWarning)\n",
      "d:\\iust\\pattern\\projects\\2\\2venv\\lib\\site-packages\\sklearn\\svm\\_base.py:947: ConvergenceWarning: Liblinear failed to converge, increase the number of iterations.\n",
      "  \"the number of iterations.\", ConvergenceWarning)\n",
      "d:\\iust\\pattern\\projects\\2\\2venv\\lib\\site-packages\\sklearn\\svm\\_base.py:947: ConvergenceWarning: Liblinear failed to converge, increase the number of iterations.\n",
      "  \"the number of iterations.\", ConvergenceWarning)\n",
      "d:\\iust\\pattern\\projects\\2\\2venv\\lib\\site-packages\\sklearn\\svm\\_base.py:947: ConvergenceWarning: Liblinear failed to converge, increase the number of iterations.\n",
      "  \"the number of iterations.\", ConvergenceWarning)\n"
     ]
    }
   ],
   "source": [
    "a = []\n",
    "s = []\n",
    "ru = []\n",
    "rb = []\n",
    "sv = []\n",
    "rf = []\n",
    "for i in range(10):\n",
    "    Xtr,Xte,ytr,yte = train_test_split(Data,Labels,test_size=.3)\n",
    "    LSVM = LinearSVC(C = 1.0,max_iter=100)\n",
    "    LSVM.fit(Xtr,ytr)\n",
    "    sv.append(accuracy_score(yte,LSVM.predict(Xte)))\n",
    "    rfc = RandomForestClassifier()\n",
    "    rfc.fit(Xtr,ytr)\n",
    "    rf.append(accuracy_score(yte,rfc.predict(Xte)))\n",
    "    abom2 = ADABOOST_M2(Xtr,ytr)\n",
    "    abom2.train(100)\n",
    "    a.append(accuracy_score(yte,abom2.predict(Xte)))\n",
    "    sbo = SMOTE_BOOST(Xtr,ytr,10,900)\n",
    "    sbo.train(100)\n",
    "    s.append(accuracy_score(yte,sbo.predict(Xte)))\n",
    "    rubo = RUSBOOST(Xtr,ytr,50)\n",
    "    rubo.train(100)\n",
    "    ru.append(accuracy_score(yte,rubo.predict(Xte)))\n",
    "    rbbo = RB_BOOST(Xtr,ytr)\n",
    "    rbbo.train(5,100)\n",
    "    rb.append(accuracy_score(yte,rbbo.predict(Xte)))\n",
    "      "
   ]
  },
  {
   "cell_type": "code",
   "execution_count": 41,
   "metadata": {},
   "outputs": [
    {
     "name": "stdout",
     "output_type": "stream",
     "text": [
      "[0.9646772228989038, 0.9689403166869671, 0.9646772228989038, 0.964068209500609, 0.9683313032886723, 0.9610231425091352, 0.9646772228989038, 0.9671132764920828, 0.9671132764920828, 0.9628501827040195] [0.9354445797807551, 0.9372716199756395, 0.9336175395858709, 0.9403166869671132, 0.9317904993909866, 0.9323995127892813, 0.9518879415347138, 0.9464068209500609, 0.9457978075517661, 0.940925700365408] [0.9579780755176613, 0.9555420219244823, 0.9439707673568819, 0.9598051157125457, 0.9439707673568819, 0.940925700365408, 0.9500609013398295, 0.9561510353227771, 0.9567600487210719, 0.9561510353227771] [0.9263093788063338, 0.9506699147381242, 0.9366626065773447, 0.925700365408039, 0.9311814859926918, 0.9354445797807551, 0.9311814859926918, 0.9451887941534713, 0.9451887941534713, 0.9476248477466505] [0.9342265529841657, 0.9427527405602923, 0.9348355663824605, 0.8781973203410475, 0.7978075517661388, 0.9250913520097442, 0.940925700365408, 0.9549330085261876, 0.9013398294762485, 0.951278928136419] [0.9756394640682094, 0.9756394640682094, 0.9774665042630938, 0.9762484774665042, 0.9719853836784409, 0.9738124238733252, 0.9701583434835567, 0.9811205846528623, 0.9707673568818515, 0.976857490864799]\n"
     ]
    }
   ],
   "source": [
    "print(a,s,ru,rb,sv,rf)\n",
    "#ada smote rus ran_bal svm ran_for"
   ]
  },
  {
   "cell_type": "code",
   "execution_count": 42,
   "metadata": {},
   "outputs": [
    {
     "data": {
      "text/plain": [
       "array([[0.96467722, 0.96894032, 0.96467722, 0.96406821, 0.9683313 ,\n",
       "        0.96102314, 0.96467722, 0.96711328, 0.96711328, 0.96285018],\n",
       "       [0.93544458, 0.93727162, 0.93361754, 0.94031669, 0.9317905 ,\n",
       "        0.93239951, 0.95188794, 0.94640682, 0.94579781, 0.9409257 ],\n",
       "       [0.95797808, 0.95554202, 0.94397077, 0.95980512, 0.94397077,\n",
       "        0.9409257 , 0.9500609 , 0.95615104, 0.95676005, 0.95615104],\n",
       "       [0.92630938, 0.95066991, 0.93666261, 0.92570037, 0.93118149,\n",
       "        0.93544458, 0.93118149, 0.94518879, 0.94518879, 0.94762485],\n",
       "       [0.93422655, 0.94275274, 0.93483557, 0.87819732, 0.79780755,\n",
       "        0.92509135, 0.9409257 , 0.95493301, 0.90133983, 0.95127893],\n",
       "       [0.97563946, 0.97563946, 0.9774665 , 0.97624848, 0.97198538,\n",
       "        0.97381242, 0.97015834, 0.98112058, 0.97076736, 0.97685749]])"
      ]
     },
     "execution_count": 42,
     "metadata": {},
     "output_type": "execute_result"
    }
   ],
   "source": [
    "obs = np.concatenate((a,s,ru,rb,sv,rf)).reshape(6,10)\n",
    "obs\n",
    "# np.round(obs,2)\n",
    "# np.mean(obs,axis=1)"
   ]
  },
  {
   "cell_type": "code",
   "execution_count": 43,
   "metadata": {},
   "outputs": [
    {
     "data": {
      "text/plain": [
       "0.02221166813294741"
      ]
     },
     "execution_count": 43,
     "metadata": {},
     "output_type": "execute_result"
    }
   ],
   "source": [
    "groups_mean = np.mean(obs,axis=1).reshape(-1,1)\n",
    "ssg = np.sum((obs - groups_mean)**2,axis=0)\n",
    "#sum of squares within groups\n",
    "sswg = np.sum(ssg)\n",
    "sswg"
   ]
  },
  {
   "cell_type": "code",
   "execution_count": 44,
   "metadata": {},
   "outputs": [],
   "source": [
    "total_mean = np.mean(obs)\n",
    "sst = np.sum((obs - total_mean)**2)"
   ]
  },
  {
   "cell_type": "code",
   "execution_count": 45,
   "metadata": {},
   "outputs": [
    {
     "data": {
      "text/plain": [
       "0.02240319332701324"
      ]
     },
     "execution_count": 45,
     "metadata": {},
     "output_type": "execute_result"
    }
   ],
   "source": [
    "#sum of squares between groups\n",
    "ssbg = sst - sswg\n",
    "ssbg"
   ]
  },
  {
   "cell_type": "code",
   "execution_count": 46,
   "metadata": {},
   "outputs": [
    {
     "data": {
      "text/plain": [
       "0.002489243703001471"
      ]
     },
     "execution_count": 46,
     "metadata": {},
     "output_type": "execute_result"
    }
   ],
   "source": [
    "m1 = ssbg/(10-1)\n",
    "m1"
   ]
  },
  {
   "cell_type": "code",
   "execution_count": 47,
   "metadata": {},
   "outputs": [
    {
     "data": {
      "text/plain": [
       "0.0004442333626589482"
      ]
     },
     "execution_count": 47,
     "metadata": {},
     "output_type": "execute_result"
    }
   ],
   "source": [
    "#sum of squares within groups\n",
    "m2 = sswg/(60-10)\n",
    "m2"
   ]
  },
  {
   "cell_type": "code",
   "execution_count": 48,
   "metadata": {},
   "outputs": [
    {
     "data": {
      "text/plain": [
       "5.603459605334823"
      ]
     },
     "execution_count": 48,
     "metadata": {},
     "output_type": "execute_result"
    }
   ],
   "source": [
    "F_9_50 = m1/m2\n",
    "F_9_50"
   ]
  },
  {
   "cell_type": "code",
   "execution_count": 49,
   "metadata": {},
   "outputs": [],
   "source": [
    "from scipy.stats import sem,t\n",
    "\n",
    "def independent_ttest(a, b, alpha):\n",
    "    # calculate means\n",
    "    n = len(a)\n",
    "    # calculate standard errors\n",
    "    se1, se2 = np.std(a, ddof=1)/np.sqrt(n), np.std(b, ddof=1)/np.sqrt(n)\n",
    "    sed = np.sqrt(se1**2.0 + se2**2.0)\n",
    "    # calculate the t statistic\n",
    "    t_stat = (np.mean(a) - np.mean(b)) / sed\n",
    "    # degrees of freedom\n",
    "    df=len(a) + len(b) - 2\n",
    "    # calculate the critical value\n",
    "    cv = t.ppf(1.0 - alpha, df)\n",
    "    p = (1.0 - t.cdf(np.abs(t_stat), df)) * 2.0\n",
    "    # return everything\n",
    "    return t_stat,cv,p\n"
   ]
  },
  {
   "cell_type": "code",
   "execution_count": 50,
   "metadata": {},
   "outputs": [
    {
     "data": {
      "text/plain": [
       "[(1, 3), (1, 4), (2, 4), (3, 4)]"
      ]
     },
     "execution_count": 50,
     "metadata": {},
     "output_type": "execute_result"
    }
   ],
   "source": [
    "sames = []\n",
    "sames2 = []\n",
    "alpha = .01\n",
    "#ada smote rus ran_bal svm ran_for\n",
    "for i in range(4):\n",
    "    for j in range(i+1,5):\n",
    "        ts,cv,p = independent_ttest(obs[i],obs[j],alpha)\n",
    "        if p>alpha:\n",
    "            sames.append((i,j))\n",
    "        if ts<=cv:\n",
    "            sames2.append((i,j))\n",
    "sames"
   ]
  },
  {
   "cell_type": "code",
   "execution_count": 51,
   "metadata": {},
   "outputs": [],
   "source": [
    "from scipy import stats\n",
    "\n",
    "ts,cv,p = independent_ttest(obs[1],obs[2],0.01)\n",
    "ts2, p2 = stats.ttest_ind(obs[1],obs[2])\n"
   ]
  },
  {
   "cell_type": "code",
   "execution_count": 52,
   "metadata": {},
   "outputs": [
    {
     "name": "stdout",
     "output_type": "stream",
     "text": [
      "-4.12918618754692 -4.12918618754692\n",
      "0.0006299656682293708 0.0006299656682292566\n"
     ]
    }
   ],
   "source": [
    "print(ts,ts2)\n",
    "print(p,p2)"
   ]
  },
  {
   "cell_type": "code",
   "execution_count": null,
   "metadata": {},
   "outputs": [],
   "source": []
  },
  {
   "cell_type": "code",
   "execution_count": null,
   "metadata": {},
   "outputs": [],
   "source": []
  },
  {
   "cell_type": "code",
   "execution_count": null,
   "metadata": {},
   "outputs": [],
   "source": []
  }
 ],
 "metadata": {
  "kernelspec": {
   "display_name": "Python 3",
   "language": "python",
   "name": "python3"
  },
  "language_info": {
   "codemirror_mode": {
    "name": "ipython",
    "version": 3
   },
   "file_extension": ".py",
   "mimetype": "text/x-python",
   "name": "python",
   "nbconvert_exporter": "python",
   "pygments_lexer": "ipython3",
   "version": "3.7.4"
  }
 },
 "nbformat": 4,
 "nbformat_minor": 2
}
